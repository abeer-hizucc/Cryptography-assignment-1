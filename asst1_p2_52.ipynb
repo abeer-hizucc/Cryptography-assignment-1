{
 "cells": [
  {
   "cell_type": "markdown",
   "metadata": {},
   "source": [
    "## <center>Lab Assignment-1<center> <br>\n",
    "## <center>Classical Encryption Techniques <center><br>\n",
    "<h3><center>Problem-2<center><h3><br>"
   ]
  },
  {
   "cell_type": "markdown",
   "metadata": {},
   "source": [
    "**(a) Print the predicted length of the key. The output may contain more than one value.**"
   ]
  },
  {
   "cell_type": "markdown",
   "metadata": {},
   "source": [
    "**2a(1)**\n",
    "1. The problem is divided into several functions."
   ]
  },
  {
   "cell_type": "code",
   "execution_count": 10,
   "metadata": {},
   "outputs": [],
   "source": [
    "\n",
    "upper_case = 39\n",
    "lower_case = 97\n",
    "file = open('output.txt','r')\n",
    "cyphertext = file.read()\n",
    "cyphertext = cyphertext.replace(\" \", \"\")\n",
    "def repeatedSeqOffset(cyphertext):\n",
    "    # Compile a list of seqLen-letter sequences found in the message.\n",
    "    seqOffset = {}\n",
    "    seqLen = 4 #taking 4 letter sequence for each iteration\n",
    "    for seqStart in range(len(cyphertext)-seqLen):\n",
    "        # Determine what the sequence is, and store it in seq\n",
    "        seq = cyphertext[seqStart:seqStart+seqLen]\n",
    "        # Look for this sequence in the rest of the message\n",
    "        for i in range(seqStart +seqLen, len(cyphertext)-seqLen):\n",
    "            if cyphertext[i:i+ seqLen] == seq:\n",
    "                # Found a repeated sequence.\n",
    "                if seq not in seqOffset:\n",
    "                    seqOffset[seq] = []\n",
    "                    # Append the spacing distance between the repeated sequence and original sequence.\n",
    "                seqOffset[seq].append(i-seqStart)\n",
    "    return seqOffset\n"
   ]
  },
  {
   "cell_type": "markdown",
   "metadata": {},
   "source": [
    "**2a(2)**\n",
    "1. Finding factors of the sequnce letters.\n",
    "2. Removing duplicate factors "
   ]
  },
  {
   "cell_type": "code",
   "execution_count": 11,
   "metadata": {},
   "outputs": [],
   "source": [
    "def usefulFactors(num):\n",
    "    if num <2:\n",
    "        return[]\n",
    "    facctors =[] # the list of factors found\n",
    "    for i in range(2,10):\n",
    "        if num%i == 0:\n",
    "            facctors.append(i)\n",
    "            facctors.append(int(num/i))\n",
    "    if 1 in facctors:\n",
    "        facctors.remove(1)\n",
    "    return list(set(facctors)) #removing duplicate factors\n",
    "\n",
    "\n"
   ]
  },
  {
   "cell_type": "markdown",
   "metadata": {},
   "source": [
    "**2(a)3**\n",
    "1. Finding most common factor among the sequence letters.\n",
    "2. Sort the list by the factor count."
   ]
  },
  {
   "cell_type": "code",
   "execution_count": 12,
   "metadata": {},
   "outputs": [],
   "source": [
    "def commonFactors(keyFactorsDict):\n",
    "    factorDict = {}\n",
    "    for i in keyFactorsDict:\n",
    "        factorList = keyFactorsDict[i]\n",
    "        for j in factorList:\n",
    "            if j not in factorDict:\n",
    "                factorDict[j]=0\n",
    "            factorDict[j]=factorDict[j]+1\n",
    "    \n",
    "    factorFrequency =[]\n",
    "    for j in factorDict:\n",
    "        factorFrequency.append((j,factorDict[j]))\n",
    "    factorFrequency.sort(key = lambda indexOne: indexOne[1],reverse=True )\n",
    "    return factorFrequency"
   ]
  },
  {
   "cell_type": "markdown",
   "metadata": {},
   "source": [
    "**2(a)4**\n",
    "1. In this function, no. of probable keys and keys probable lengths are found.\n",
    "2. *probableKeysLength* is a list which stores the key part of *keyFactorDict* dictionary which holds integer factors list.\n"
   ]
  },
  {
   "cell_type": "code",
   "execution_count": 13,
   "metadata": {},
   "outputs": [
    {
     "name": "stdout",
     "output_type": "stream",
     "text": [
      "[3, 9, 2, 6, 51, 17]\n"
     ]
    }
   ],
   "source": [
    "def keyLengthPrediction(cyphertext):\n",
    "    seqOffset = repeatedSeqOffset(cyphertext)\n",
    "    keyFactorDict = {}\n",
    "    for i in seqOffset:\n",
    "        keyFactorDict[i]=[]\n",
    "        for offset in seqOffset[i]:\n",
    "            keyFactorDict[i].extend(usefulFactors(offset))\n",
    "    \n",
    "    factorFrequency = commonFactors(keyFactorDict)\n",
    "    probableKeysLength = []\n",
    "    for tuple in factorFrequency:\n",
    "        probableKeysLength.append(tuple[0])\n",
    "    \n",
    "    return probableKeysLength\n",
    "\n",
    "print(keyLengthPrediction(cyphertext))"
   ]
  }
 ],
 "metadata": {
  "interpreter": {
   "hash": "98d986e16014c9e816d2517368fd6a98c7c85720c74c08ab9246dbaa2a608120"
  },
  "kernelspec": {
   "display_name": "Python 3.7.3 32-bit",
   "language": "python",
   "name": "python3"
  },
  "language_info": {
   "codemirror_mode": {
    "name": "ipython",
    "version": 3
   },
   "file_extension": ".py",
   "mimetype": "text/x-python",
   "name": "python",
   "nbconvert_exporter": "python",
   "pygments_lexer": "ipython3",
   "version": "3.7.3"
  },
  "orig_nbformat": 4
 },
 "nbformat": 4,
 "nbformat_minor": 2
}
