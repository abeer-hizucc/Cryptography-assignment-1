{
 "cells": [
  {
   "cell_type": "markdown",
   "metadata": {},
   "source": [
    "## <center>Lab Assignment-1<center> <br>\n",
    "## <center>Classical Encryption Techniques <center><br>\n",
    "<h3><center>Problem-1<center><h3><br>"
   ]
  },
  {
   "cell_type": "markdown",
   "metadata": {},
   "source": [
    "\n",
    "**(a) Remove unnecessary characters except A - Z, a - z from the English text in‘input.txt’.**\n",
    "\n",
    "Purposefully added some symbols to show the cleaning process of the input file. Used regular expression library for adding spaces, removing unnecessary characters etc.\n",
    "\n"
   ]
  },
  {
   "cell_type": "code",
   "execution_count": 1,
   "metadata": {},
   "outputs": [
    {
     "name": "stdout",
     "output_type": "stream",
     "text": [
      "ifyoufindthatyourespendingalmostallyourtimeontheorystartturningsomeattentiontopr\n",
      "acticalthingsitwillimproveyourtheoriesifyoufindthatyourespendingalmostallyourtim\n",
      "eonpracticestartturningsomeattentiontotheoreticalthingsitwillimproveyourpractice\n",
      "donaldknuthxxxxxxxxxxxxxxxxxxxxxxxxxxxxxxxxxxxxxAAAFFFRRRFF8/*`\n",
      "\n",
      "ifyoufindthatyourespendingalmostallyourtimeontheorystartturningsomeattentiontopracticalthingsitwillimproveyourtheoriesifyoufindthatyourespendingalmostallyourtimeonpracticestartturningsomeattentiontotheoreticalthingsitwillimproveyourpracticedonaldknuthxxxxxxxxxxxxxxxxxxxxxxxxxxxxxxxxxxxxxAAAFFFRRRFF\n"
     ]
    }
   ],
   "source": [
    "import re\n",
    "\n",
    "upper_case = 39\n",
    "lower_case = 97\n",
    " #read the input text with symbols\n",
    "file = open('input.txt','r')\n",
    "dirty_txt =file.read()\n",
    "print(dirty_txt)\n",
    "#cleaning the txt from other characters\n",
    "input_txt = re.sub('[^a-zA-Z]','',dirty_txt)\n",
    "print(input_txt)"
   ]
  },
  {
   "cell_type": "markdown",
   "metadata": {},
   "source": [
    "**(b) Encode the message using the keyphrase in ‘key.txt’.**\n",
    "\n",
    "1. in the function, *assign_value*- I assigned relatives values for lower and upper English letters in key and input text based on the unicode function ord() returned.<br>\n",
    "[A-Z]=[0-25]<br>\n",
    "[a-z]=[26-51]\n",
    "2. Then appended the letters in *num_key* list to form the desired string in function, *encrypt_message* .\n",
    "3. Used vigener cypher to encrypt the message.\n",
    ">Ci = (Pi+Kimodm)%52\n",
    "(here, m= len(key))\n",
    "4. To showcase the encrypted message, we again assigned the unicode to the respective letters."
   ]
  },
  {
   "cell_type": "code",
   "execution_count": 2,
   "metadata": {},
   "outputs": [
    {
     "data": {
      "text/plain": [
       "'enAYufAqgppcdyoMuhoxgXdiFjdhuqctaDoBkCtdimwrqppgYryKwdnBvernAqjowoOatLhqpqqXtoHudYBkMalLkljouStwAooeurbovwBrqzvReoJlhoqhiouxlqZBjKtyGxuaArOndAqjWtoYstsoouwwbtiEhrjxtKctAfhoBcbttMuqevicomwdwpmpdioFwrppgYreLlfWtvRinyvlpEkVliEsukDgiouJsuWkvScevrqWtfUnuLkAtFzhxxPAAtFzhxxPAAtFzhxxPAAtFzhxxPAAwICpFFjUUBN'"
      ]
     },
     "execution_count": 2,
     "metadata": {},
     "output_type": "execute_result"
    }
   ],
   "source": [
    "file = open('key.txt','r')\n",
    "key = file.read()\n",
    "\n",
    "def assigning_value(strings):\n",
    "    num_key = []\n",
    "    for i in range(len(strings)):\n",
    "        if 'a'<=strings[i] <= 'z':\n",
    "            # The ord() function returns an integer representing the Unicode character.\n",
    "            num_key.append(ord(strings[i])-97) \n",
    "        elif 'A'<=strings[i]<='Z':\n",
    "            num_key.append(ord(strings[i])-39)\n",
    "    return num_key\n",
    "\n",
    "def encrypt_message(key,input_txt):\n",
    "    cyphertext=''\n",
    "    len_key = len(key)\n",
    "    num_key = assigning_value(key)\n",
    "    input_key = assigning_value(input_txt)\n",
    "    for i in range(len(input_txt)):\n",
    "        p = input_key[i]\n",
    "        k = num_key[i%len_key]\n",
    "        c = (p+k)%52\n",
    "        if 0<=c<=25:\n",
    "            cyphertext=cyphertext+chr(c+lower_case)\n",
    "        elif 26<=c<=51:\n",
    "            cyphertext=cyphertext+chr(c+upper_case)\n",
    "    #print(cyphertext)\n",
    "    return(cyphertext)\n",
    "encrypt_message(key,input_txt)"
   ]
  },
  {
   "cell_type": "markdown",
   "metadata": {},
   "source": [
    "**(c) Convert the ciphertext produced in step(b) into a message consists of words with 5 characters and write it into ‘output.txt’.**\n",
    "\n",
    "1. encoded message in earlier step is saved in *output.txt*.\n",
    "2. the whole message is divided in 5 characters using regular expression library again."
   ]
  },
  {
   "cell_type": "code",
   "execution_count": 3,
   "metadata": {},
   "outputs": [
    {
     "name": "stdout",
     "output_type": "stream",
     "text": [
      "enAYu fAqgp pcdyo Muhox gXdiF jdhuq ctaDo BkCtd imwrq ppgYr yKwdn Bvern Aqjow oOatL hqpqq XtoHu dYBkM alLkl jouSt wAooe urbov wBrqz vReoJ lhoqh iouxl qZBjK tyGxu aArOn dAqjW toYst soouw wbtiE hrjxt KctAf hoBcb ttMuq evico mwdwp mpdio Fwrpp gYreL lfWtv Rinyv lpEkV liEsu kDgio uJsuW kvSce vrqWt fUnuL kAtFz hxxPA AtFzh xxPAA tFzhx xPAAt Fzhxx PAAwI CpFFj UUBN\n"
     ]
    }
   ],
   "source": [
    "encrypted_message = encrypt_message(key,input_txt)\n",
    "encrypted_message = (' ').join(re.findall('.{1,5}',encrypted_message))\n",
    "print(encrypted_message)\n",
    "file = open('output.txt','w')\n",
    "file.write(encrypted_message)\n",
    "file = open('output.txt','r')"
   ]
  },
  {
   "cell_type": "markdown",
   "metadata": {},
   "source": [
    "**(d) Decode the ciphertext in ‘output.txt’ into the original message.**\n",
    "\n",
    "1. Took the string saved in *output.txt* in earlier step and stripped the spaces added earlier to get the original message.\n",
    "2. The procedure is as earlier, as encryption was done. Only thing different from it is the formula for decryption:\n",
    "> Pi = (Ci-Kimodm)%52"
   ]
  },
  {
   "cell_type": "code",
   "execution_count": 4,
   "metadata": {},
   "outputs": [
    {
     "data": {
      "text/plain": [
       "'ifyoufindthatyourespendingalmostallyourtimeontheorystartturningsomeattentiontopracticalthingsitwillimproveyourtheoriesifyoufindthatyourespendingalmostallyourtimeonpracticestartturningsomeattentiontotheoreticalthingsitwillimproveyourpracticedonaldknuthxxxxxxxxxxxxxxxxxxxxxxxxxxxxxxxxxxxxxAAAFFFRRRFF'"
      ]
     },
     "execution_count": 4,
     "metadata": {},
     "output_type": "execute_result"
    }
   ],
   "source": [
    "def decrypt_message(key):\n",
    "    file = open('output.txt','r')\n",
    "    cyphertext = file.read()\n",
    "    cyphertext = cyphertext.replace(\" \", \"\")\n",
    "    original_txt = ''\n",
    "    len_key = len(key)\n",
    "    num_key = assigning_value(key)\n",
    "    encrypt_key = assigning_value(cyphertext)\n",
    "    for i in range(len(cyphertext)):\n",
    "        p = encrypt_key[i]\n",
    "        k = num_key[i%len_key]\n",
    "        c = (p-k)%52\n",
    "        if 0<=c<=25:\n",
    "            original_txt=original_txt+chr(c+lower_case)\n",
    "        elif 26<=c<=51:\n",
    "            original_txt=original_txt+chr(c+upper_case)\n",
    "    #print(original_txt)\n",
    "    return(original_txt)\n",
    "\n",
    "decrypt_message(key)\n"
   ]
  }
 ],
 "metadata": {
  "interpreter": {
   "hash": "98d986e16014c9e816d2517368fd6a98c7c85720c74c08ab9246dbaa2a608120"
  },
  "kernelspec": {
   "display_name": "Python 3.7.3 32-bit",
   "language": "python",
   "name": "python3"
  },
  "language_info": {
   "codemirror_mode": {
    "name": "ipython",
    "version": 3
   },
   "file_extension": ".py",
   "mimetype": "text/x-python",
   "name": "python",
   "nbconvert_exporter": "python",
   "pygments_lexer": "ipython3",
   "version": "3.7.3"
  },
  "orig_nbformat": 4
 },
 "nbformat": 4,
 "nbformat_minor": 2
}
